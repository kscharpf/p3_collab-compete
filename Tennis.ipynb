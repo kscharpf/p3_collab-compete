{
 "cells": [
  {
   "cell_type": "markdown",
   "metadata": {},
   "source": [
    "# Collaboration and Competition\n",
    "\n",
    "---\n",
    "\n",
    "In this notebook, you will learn how to use the Unity ML-Agents environment for the third project of the [Deep Reinforcement Learning Nanodegree](https://www.udacity.com/course/deep-reinforcement-learning-nanodegree--nd893) program.\n",
    "\n",
    "### 1. Start the Environment\n",
    "\n",
    "We begin by importing the necessary packages.  If the code cell below returns an error, please revisit the project instructions to double-check that you have installed [Unity ML-Agents](https://github.com/Unity-Technologies/ml-agents/blob/master/docs/Installation.md) and [NumPy](http://www.numpy.org/)."
   ]
  },
  {
   "cell_type": "code",
   "execution_count": 1,
   "metadata": {},
   "outputs": [],
   "source": [
    "from unityagents import UnityEnvironment\n",
    "import numpy as np"
   ]
  },
  {
   "cell_type": "markdown",
   "metadata": {},
   "source": [
    "Next, we will start the environment!  **_Before running the code cell below_**, change the `file_name` parameter to match the location of the Unity environment that you downloaded.\n",
    "\n",
    "- **Mac**: `\"path/to/Tennis.app\"`\n",
    "- **Windows** (x86): `\"path/to/Tennis_Windows_x86/Tennis.exe\"`\n",
    "- **Windows** (x86_64): `\"path/to/Tennis_Windows_x86_64/Tennis.exe\"`\n",
    "- **Linux** (x86): `\"path/to/Tennis_Linux/Tennis.x86\"`\n",
    "- **Linux** (x86_64): `\"path/to/Tennis_Linux/Tennis.x86_64\"`\n",
    "- **Linux** (x86, headless): `\"path/to/Tennis_Linux_NoVis/Tennis.x86\"`\n",
    "- **Linux** (x86_64, headless): `\"path/to/Tennis_Linux_NoVis/Tennis.x86_64\"`\n",
    "\n",
    "For instance, if you are using a Mac, then you downloaded `Tennis.app`.  If this file is in the same folder as the notebook, then the line below should appear as follows:\n",
    "```\n",
    "env = UnityEnvironment(file_name=\"Tennis.app\")\n",
    "```"
   ]
  },
  {
   "cell_type": "code",
   "execution_count": 2,
   "metadata": {},
   "outputs": [
    {
     "name": "stderr",
     "output_type": "stream",
     "text": [
      "INFO:unityagents:\n",
      "'Academy' started successfully!\n",
      "Unity Academy name: Academy\n",
      "        Number of Brains: 1\n",
      "        Number of External Brains : 1\n",
      "        Lesson number : 0\n",
      "        Reset Parameters :\n",
      "\t\t\n",
      "Unity brain name: TennisBrain\n",
      "        Number of Visual Observations (per agent): 0\n",
      "        Vector Observation space type: continuous\n",
      "        Vector Observation space size (per agent): 8\n",
      "        Number of stacked Vector Observation: 3\n",
      "        Vector Action space type: continuous\n",
      "        Vector Action space size (per agent): 2\n",
      "        Vector Action descriptions: , \n"
     ]
    }
   ],
   "source": [
    "env = UnityEnvironment(file_name=\"./Tennis_Linux_NoVis/Tennis.x86_64\")"
   ]
  },
  {
   "cell_type": "markdown",
   "metadata": {},
   "source": [
    "Environments contain **_brains_** which are responsible for deciding the actions of their associated agents. Here we check for the first brain available, and set it as the default brain we will be controlling from Python."
   ]
  },
  {
   "cell_type": "code",
   "execution_count": 3,
   "metadata": {},
   "outputs": [],
   "source": [
    "# get the default brain\n",
    "brain_name = env.brain_names[0]\n",
    "brain = env.brains[brain_name]"
   ]
  },
  {
   "cell_type": "markdown",
   "metadata": {},
   "source": [
    "### 2. Examine the State and Action Spaces\n",
    "\n",
    "In this environment, two agents control rackets to bounce a ball over a net. If an agent hits the ball over the net, it receives a reward of +0.1.  If an agent lets a ball hit the ground or hits the ball out of bounds, it receives a reward of -0.01.  Thus, the goal of each agent is to keep the ball in play.\n",
    "\n",
    "The observation space consists of 8 variables corresponding to the position and velocity of the ball and racket. Two continuous actions are available, corresponding to movement toward (or away from) the net, and jumping. \n",
    "\n",
    "Run the code cell below to print some information about the environment."
   ]
  },
  {
   "cell_type": "code",
   "execution_count": 4,
   "metadata": {},
   "outputs": [
    {
     "name": "stdout",
     "output_type": "stream",
     "text": [
      "Number of agents: 2\n",
      "Size of each action: 2\n",
      "There are 2 agents. Each observes a state with length: 24\n",
      "The state for the first agent looks like: [ 0.          0.          0.          0.          0.          0.\n",
      "  0.          0.          0.          0.          0.          0.\n",
      "  0.          0.          0.          0.         -6.65278625 -1.5\n",
      " -0.          0.          6.83172083  6.         -0.          0.        ]\n"
     ]
    }
   ],
   "source": [
    "# reset the environment\n",
    "env_info = env.reset(train_mode=True)[brain_name]\n",
    "\n",
    "# number of agents \n",
    "num_agents = len(env_info.agents)\n",
    "print('Number of agents:', num_agents)\n",
    "\n",
    "# size of each action\n",
    "action_size = brain.vector_action_space_size\n",
    "print('Size of each action:', action_size)\n",
    "\n",
    "# examine the state space \n",
    "states = env_info.vector_observations\n",
    "state_size = states.shape[1]\n",
    "print('There are {} agents. Each observes a state with length: {}'.format(states.shape[0], state_size))\n",
    "print('The state for the first agent looks like:', states[0])"
   ]
  },
  {
   "cell_type": "markdown",
   "metadata": {},
   "source": [
    "### 3. Train the Agent\n",
    "\n",
    "The following cells when executed will train the agent and solve the project."
   ]
  },
  {
   "cell_type": "code",
   "execution_count": 5,
   "metadata": {},
   "outputs": [],
   "source": [
    "%load_ext autoreload\n",
    "%autoreload 2"
   ]
  },
  {
   "cell_type": "code",
   "execution_count": 6,
   "metadata": {
    "scrolled": true
   },
   "outputs": [
    {
     "name": "stdout",
     "output_type": "stream",
     "text": [
      "Episode  100 Score 0.00 Mean Last 10 0.0000 Mean Last 100 0.0010 Elapsed    137\n",
      "Episode  200 Score 0.00 Mean Last 10 0.0000 Mean Last 100 0.0018 Elapsed    300\n",
      "Episode  300 Score 0.00 Mean Last 10 0.0000 Mean Last 100 0.0000 Elapsed    467\n",
      "Episode  400 Score 0.00 Mean Last 10 0.0000 Mean Last 100 0.0049 Elapsed    642\n",
      "Episode  500 Score 0.00 Mean Last 10 0.0200 Mean Last 100 0.0099 Elapsed    836\n",
      "Episode  600 Score 0.00 Mean Last 10 0.0460 Mean Last 100 0.0191 Elapsed   1051\n",
      "Episode  700 Score 0.00 Mean Last 10 0.0690 Mean Last 100 0.0350 Elapsed   1304\n",
      "Episode  800 Score 0.00 Mean Last 10 0.0200 Mean Last 100 0.0327 Elapsed   1545\n",
      "Episode  900 Score 0.10 Mean Last 10 0.0770 Mean Last 100 0.0327 Elapsed   1790\n",
      "Episode 1000 Score 0.10 Mean Last 10 0.0880 Mean Last 100 0.0731 Elapsed   2165\n",
      "Episode 1100 Score 0.10 Mean Last 10 0.0860 Mean Last 100 0.0960 Elapsed   2620\n",
      "Episode 1200 Score 0.10 Mean Last 10 0.0880 Mean Last 100 0.1034 Elapsed   3114\n",
      "Episode 1300 Score 0.20 Mean Last 10 0.0600 Mean Last 100 0.0952 Elapsed   3635\n",
      "Episode 1400 Score 0.19 Mean Last 10 0.0780 Mean Last 100 0.0803 Elapsed   4079\n",
      "Episode 1500 Score 0.50 Mean Last 10 0.1180 Mean Last 100 0.1345 Elapsed   4760\n",
      "Episode 1600 Score 0.20 Mean Last 10 0.1900 Mean Last 100 0.1781 Elapsed   5619\n",
      "Episode 1700 Score 0.20 Mean Last 10 0.2690 Mean Last 100 0.2043 Elapsed   6643\n",
      "Episode 1800 Score 0.20 Mean Last 10 0.2190 Mean Last 100 0.2595 Elapsed   7948\n",
      "Episode 1900 Score 0.20 Mean Last 10 0.2680 Mean Last 100 0.2821 Elapsed   9342\n",
      "Episode 2000 Score 0.30 Mean Last 10 0.2500 Mean Last 100 0.2723 Elapsed  10668\n",
      "Episode 2100 Score 0.10 Mean Last 10 0.6390 Mean Last 100 0.3759 Elapsed  12509\n",
      "Episode 2200 Score 0.20 Mean Last 10 0.1880 Mean Last 100 0.3640 Elapsed  14308\n",
      "Episode 2300 Score 0.70 Mean Last 10 0.2980 Mean Last 100 0.3255 Elapsed  15920\n",
      "Episode 2400 Score 0.10 Mean Last 10 0.5090 Mean Last 100 0.3535 Elapsed  17603\n",
      "Episode 2500 Score 0.30 Mean Last 10 0.4270 Mean Last 100 0.4415 Elapsed  19729\n",
      "Episode 2532 Score 2.40 Mean Last 10 0.7880 Mean Last 100 0.4898 Elapsed  20799\n",
      "Solved in 2533 episodes with mean score: 0.5068\n"
     ]
    }
   ],
   "source": [
    "\n",
    "from maddpg_agent import MADDPGAgent\n",
    "import time\n",
    "agent = MADDPGAgent(num_agents, state_size, action_size, random_seed=47, batch_size=256, buffer_size=int(1e6), use_batch_norm=True)\n",
    "episode_scores = []\n",
    "best_score=0.\n",
    "start_time = time.time()\n",
    "for i in range(5000):\n",
    "    env_info = env.reset(train_mode=True)[brain_name]\n",
    "    states = env_info.vector_observations\n",
    "    scores = np.zeros(num_agents)\n",
    "    agent.reset_noise()\n",
    "    game_time = 0\n",
    "    while True:\n",
    "        # states[0] is the observation of agent 0 and states[1] is the observation of agent 1\n",
    "        # actions[0] is the action chosen by agent 0 and actions[1] is the action chosen by agent 1\n",
    "        # selection of action is always based only on the observation\n",
    "        actions = agent.act(states)\n",
    "\n",
    "        # Apply these actions to the environment and receive the next state, rewards, and doneness\n",
    "        env_info = env.step(actions)[brain_name]\n",
    "        next_states = env_info.vector_observations\n",
    "        rewards = env_info.rewards\n",
    "        \n",
    "        #print(\"actions: {} rewards: {}\".format(actions, rewards))\n",
    "        \n",
    "        dones = env_info.local_done\n",
    "        \n",
    "        # Send in these two states, actions, next_states, and dones into the agent\n",
    "        agent.step(states,actions,rewards,next_states, dones)\n",
    "        scores += np.array(env_info.rewards)\n",
    "        states = next_states\n",
    "        if np.any(dones):\n",
    "            break\n",
    "        game_time += 1\n",
    "    \n",
    "    mean_last_10 = 0.\n",
    "    mean_last_100 = 0.\n",
    "    episode_scores.append(np.max(scores))\n",
    "\n",
    "    if i >= 10:\n",
    "        mean_last_10 = np.mean(episode_scores[i-10:i])\n",
    "        if i>= 100:\n",
    "            mean_last_100 = np.mean(episode_scores[i-100:i])\n",
    "            if mean_last_100 >= 0.5:\n",
    "                print(\"\\nSolved in {} episodes with mean score: {:.4f}\".format(i, mean_last_100))\n",
    "                break\n",
    "    elapsed_time = int(time.time() - start_time)\n",
    "    sfmt = \"\\rEpisode {:4d} Score {:.2f} Mean Last 10 {:.4f} Mean Last 100 {:.4f} Elapsed {:6d}\".format(i,\n",
    "                                                                                  np.max(scores),\n",
    "                                                                                  mean_last_10,\n",
    "                                                                                  mean_last_100,\n",
    "                                                                                  elapsed_time)\n",
    "    print(sfmt, end=\"\")\n",
    "    if i%100 == 0 and i>0:\n",
    "        print(sfmt)\n"
   ]
  },
  {
   "cell_type": "markdown",
   "metadata": {},
   "source": [
    "### 4. Store Results\n",
    "Save the network models, training scores, and a plot illustrating the performance of the agents over episodes."
   ]
  },
  {
   "cell_type": "code",
   "execution_count": 7,
   "metadata": {},
   "outputs": [],
   "source": [
    "import pickle as pkl"
   ]
  },
  {
   "cell_type": "code",
   "execution_count": 8,
   "metadata": {},
   "outputs": [],
   "source": [
    "pkl.dump(episode_scores, open(\"data/episode_scores.pkl\", \"wb\"))"
   ]
  },
  {
   "cell_type": "code",
   "execution_count": 9,
   "metadata": {},
   "outputs": [],
   "source": [
    "import torch\n",
    "torch.save(agent.agents[0].actor_local.state_dict(),open(\"data/actor_local0.pt\",\"wb\"))\n",
    "torch.save(agent.agents[1].actor_local.state_dict(), open(\"data/actor_local1.pt\",\"wb\"))\n",
    "torch.save(agent.agents[0].critic_local.state_dict(),open(\"data/critic_local0.pt\",\"wb\"))\n",
    "torch.save(agent.agents[1].critic_local.state_dict(), open(\"data/critic_local1.pt\",\"wb\"))"
   ]
  },
  {
   "cell_type": "markdown",
   "metadata": {},
   "source": [
    "### 5. Analyze Results\n"
   ]
  },
  {
   "cell_type": "code",
   "execution_count": 10,
   "metadata": {},
   "outputs": [],
   "source": [
    "import pickle as pkl\n",
    "import seaborn as sns\n",
    "import matplotlib.pyplot as plt\n",
    "import pandas as pd\n",
    "import numpy as np"
   ]
  },
  {
   "cell_type": "code",
   "execution_count": 11,
   "metadata": {},
   "outputs": [
    {
     "name": "stdout",
     "output_type": "stream",
     "text": [
      "Smoothed Score exceeded 0.5 at 2532\n"
     ]
    }
   ],
   "source": [
    "episode_scores = pkl.load(open(\"data/episode_scores.pkl\",\"rb\"))\n",
    "means = [np.mean(episode_scores[max(i-100,0):i+1]) for i in range(len(episode_scores))]\n",
    "d = {'raw scores':episode_scores, 'smoothed x100 scores':means}\n",
    "pdf = pd.DataFrame(d)\n",
    "print(\"Smoothed Score exceeded 0.5 at {}\".format(pdf.index[pdf['smoothed x100 scores'] >= 0.5][0]))"
   ]
  },
  {
   "cell_type": "code",
   "execution_count": 12,
   "metadata": {},
   "outputs": [
    {
     "data": {
      "image/png": "[encoded data removed]",
      "text/plain": [
       "<Figure size 508.875x360 with 1 Axes>"
      ]
     },
     "metadata": {
      "needs_background": "light"
     },
     "output_type": "display_data"
    }
   ],
   "source": [
    "ax=sns.relplot(data=pdf,kind='line')\n",
    "ax.set(xlabel=\"Episode\",ylabel=\"Score\", title=\"Raw and Smoothed Tennis Scores\")\n",
    "ax.savefig(\"output/scores.png\")"
   ]
  },
  {
   "cell_type": "markdown",
   "metadata": {},
   "source": [
    "### 6. Witness Trained Agents Performance\n",
    "The below cell block loads in a previously trained model and opens the visual version of the unity tennis environment so that the user may witness a match between two trained agents. This cell only runs if modified to set the skip_trained_agent_monitor flag is set to False."
   ]
  },
  {
   "cell_type": "code",
   "execution_count": 13,
   "metadata": {},
   "outputs": [],
   "source": [
    "skip_trained_agent_monitor = True\n",
    "if not skip_trained_agent_monitor:\n",
    "    try: env\n",
    "    except: env = None\n",
    "    from maddpg_agent import MADDPGAgent\n",
    "    from unityagents import UnityEnvironment\n",
    "    import numpy as np\n",
    "    import torch\n",
    "    if env:\n",
    "        env.close()\n",
    "    env = UnityEnvironment(file_name='./Tennis_Linux/Tennis.x86_64')\n",
    "\n",
    "    brain_name = env.brain_names[0]\n",
    "    brain = env.brains[brain_name]\n",
    "    # reset the environment\n",
    "    env_info = env.reset(train_mode=True)[brain_name]\n",
    "\n",
    "    # number of agents \n",
    "    num_agents = len(env_info.agents)\n",
    "    print('Number of agents:', num_agents)\n",
    "\n",
    "    # size of each action\n",
    "    action_size = brain.vector_action_space_size\n",
    "    print('Size of each action:', action_size)\n",
    "\n",
    "    # examine the state space \n",
    "    states = env_info.vector_observations\n",
    "    state_size = states.shape[1]\n",
    "    print('There are {} agents. Each observes a state with length: {}'.format(states.shape[0], state_size))\n",
    "    print('The state for the first agent looks like:', states[0])\n",
    "    agent = MADDPGAgent(num_agents, state_size, action_size, random_seed=47, batch_size=256, buffer_size=int(1e6), use_batch_norm=True)\n",
    "    agent.agents[0].actor_local.load_state_dict(torch.load(\"./data/actor_local0.pt\"))\n",
    "    agent.agents[1].actor_local.load_state_dict(torch.load(\"./data/actor_local1.pt\"))\n",
    "\n",
    "\n",
    "    for i in range(10):\n",
    "        env_info = env.reset(train_mode=False)[brain_name]\n",
    "        states = env_info.vector_observations\n",
    "        scores = np.zeros(num_agents)\n",
    "        agent.reset_noise()\n",
    "        game_time = 0\n",
    "        while True:\n",
    "            # states[0] is the observation of agent 0 and states[1] is the observation of agent 1\n",
    "            # actions[0] is the action chosen by agent 0 and actions[1] is the action chosen by agent 1\n",
    "            # selection of action is always based only on the observation\n",
    "            actions = agent.act(states)\n",
    "\n",
    "            # Apply these actions to the environment and receive the next state, rewards, and doneness\n",
    "            env_info = env.step(actions)[brain_name]\n",
    "            next_states = env_info.vector_observations\n",
    "            rewards = env_info.rewards        \n",
    "            dones = env_info.local_done\n",
    "\n",
    "            # Send in these two states, actions, next_states, and dones into the agent\n",
    "            scores += np.array(env_info.rewards)\n",
    "            states = next_states\n",
    "            if np.any(dones):\n",
    "                break\n",
    "        print(\"Game {} Score {}\".format(i+1, np.max(scores)))"
   ]
  },
  {
   "cell_type": "code",
   "execution_count": null,
   "metadata": {},
   "outputs": [],
   "source": []
  }
 ],
 "metadata": {
  "kernelspec": {
   "display_name": "Python 3",
   "language": "python",
   "name": "python3"
  },
  "language_info": {
   "codemirror_mode": {
    "name": "ipython",
    "version": 3
   },
   "file_extension": ".py",
   "mimetype": "text/x-python",
   "name": "python",
   "nbconvert_exporter": "python",
   "pygments_lexer": "ipython3",
   "version": "3.6.8"
  }
 },
 "nbformat": 4,
 "nbformat_minor": 2
}
