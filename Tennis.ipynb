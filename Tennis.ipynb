{
 "cells": [
  {
   "cell_type": "markdown",
   "metadata": {},
   "source": [
    "# Collaboration and Competition\n",
    "\n",
    "---\n",
    "\n",
    "In this notebook, you will learn how to use the Unity ML-Agents environment for the third project of the [Deep Reinforcement Learning Nanodegree](https://www.udacity.com/course/deep-reinforcement-learning-nanodegree--nd893) program.\n",
    "\n",
    "### 1. Start the Environment\n",
    "\n",
    "We begin by importing the necessary packages.  If the code cell below returns an error, please revisit the project instructions to double-check that you have installed [Unity ML-Agents](https://github.com/Unity-Technologies/ml-agents/blob/master/docs/Installation.md) and [NumPy](http://www.numpy.org/)."
   ]
  },
  {
   "cell_type": "code",
   "execution_count": 1,
   "metadata": {},
   "outputs": [],
   "source": [
    "from unityagents import UnityEnvironment\n",
    "import numpy as np"
   ]
  },
  {
   "cell_type": "markdown",
   "metadata": {},
   "source": [
    "Next, we will start the environment!  **_Before running the code cell below_**, change the `file_name` parameter to match the location of the Unity environment that you downloaded.\n",
    "\n",
    "- **Mac**: `\"path/to/Tennis.app\"`\n",
    "- **Windows** (x86): `\"path/to/Tennis_Windows_x86/Tennis.exe\"`\n",
    "- **Windows** (x86_64): `\"path/to/Tennis_Windows_x86_64/Tennis.exe\"`\n",
    "- **Linux** (x86): `\"path/to/Tennis_Linux/Tennis.x86\"`\n",
    "- **Linux** (x86_64): `\"path/to/Tennis_Linux/Tennis.x86_64\"`\n",
    "- **Linux** (x86, headless): `\"path/to/Tennis_Linux_NoVis/Tennis.x86\"`\n",
    "- **Linux** (x86_64, headless): `\"path/to/Tennis_Linux_NoVis/Tennis.x86_64\"`\n",
    "\n",
    "For instance, if you are using a Mac, then you downloaded `Tennis.app`.  If this file is in the same folder as the notebook, then the line below should appear as follows:\n",
    "```\n",
    "env = UnityEnvironment(file_name=\"Tennis.app\")\n",
    "```"
   ]
  },
  {
   "cell_type": "code",
   "execution_count": 2,
   "metadata": {},
   "outputs": [
    {
     "name": "stderr",
     "output_type": "stream",
     "text": [
      "INFO:unityagents:\n",
      "'Academy' started successfully!\n",
      "Unity Academy name: Academy\n",
      "        Number of Brains: 1\n",
      "        Number of External Brains : 1\n",
      "        Lesson number : 0\n",
      "        Reset Parameters :\n",
      "\t\t\n",
      "Unity brain name: TennisBrain\n",
      "        Number of Visual Observations (per agent): 0\n",
      "        Vector Observation space type: continuous\n",
      "        Vector Observation space size (per agent): 8\n",
      "        Number of stacked Vector Observation: 3\n",
      "        Vector Action space type: continuous\n",
      "        Vector Action space size (per agent): 2\n",
      "        Vector Action descriptions: , \n"
     ]
    }
   ],
   "source": [
    "env = UnityEnvironment(file_name=\"./Tennis_Linux_NoVis/Tennis.x86_64\")"
   ]
  },
  {
   "cell_type": "markdown",
   "metadata": {},
   "source": [
    "Environments contain **_brains_** which are responsible for deciding the actions of their associated agents. Here we check for the first brain available, and set it as the default brain we will be controlling from Python."
   ]
  },
  {
   "cell_type": "code",
   "execution_count": 3,
   "metadata": {},
   "outputs": [],
   "source": [
    "# get the default brain\n",
    "brain_name = env.brain_names[0]\n",
    "brain = env.brains[brain_name]"
   ]
  },
  {
   "cell_type": "markdown",
   "metadata": {},
   "source": [
    "### 2. Examine the State and Action Spaces\n",
    "\n",
    "In this environment, two agents control rackets to bounce a ball over a net. If an agent hits the ball over the net, it receives a reward of +0.1.  If an agent lets a ball hit the ground or hits the ball out of bounds, it receives a reward of -0.01.  Thus, the goal of each agent is to keep the ball in play.\n",
    "\n",
    "The observation space consists of 8 variables corresponding to the position and velocity of the ball and racket. Two continuous actions are available, corresponding to movement toward (or away from) the net, and jumping. \n",
    "\n",
    "Run the code cell below to print some information about the environment."
   ]
  },
  {
   "cell_type": "code",
   "execution_count": 4,
   "metadata": {},
   "outputs": [
    {
     "name": "stdout",
     "output_type": "stream",
     "text": [
      "Number of agents: 2\n",
      "Size of each action: 2\n",
      "There are 2 agents. Each observes a state with length: 24\n",
      "The state for the first agent looks like: [ 0.          0.          0.          0.          0.          0.\n",
      "  0.          0.          0.          0.          0.          0.\n",
      "  0.          0.          0.          0.         -6.65278625 -1.5\n",
      " -0.          0.          6.83172083  6.         -0.          0.        ]\n"
     ]
    }
   ],
   "source": [
    "# reset the environment\n",
    "env_info = env.reset(train_mode=True)[brain_name]\n",
    "\n",
    "# number of agents \n",
    "num_agents = len(env_info.agents)\n",
    "print('Number of agents:', num_agents)\n",
    "\n",
    "# size of each action\n",
    "action_size = brain.vector_action_space_size\n",
    "print('Size of each action:', action_size)\n",
    "\n",
    "# examine the state space \n",
    "states = env_info.vector_observations\n",
    "state_size = states.shape[1]\n",
    "print('There are {} agents. Each observes a state with length: {}'.format(states.shape[0], state_size))\n",
    "print('The state for the first agent looks like:', states[0])"
   ]
  },
  {
   "cell_type": "markdown",
   "metadata": {},
   "source": [
    "### 4. It's Your Turn!\n",
    "\n",
    "Now it's your turn to train your own agent to solve the environment!  When training the environment, set `train_mode=True`, so that the line for resetting the environment looks like the following:\n",
    "```python\n",
    "env_info = env.reset(train_mode=True)[brain_name]\n",
    "```"
   ]
  },
  {
   "cell_type": "code",
   "execution_count": 5,
   "metadata": {},
   "outputs": [],
   "source": [
    "%load_ext autoreload\n",
    "%autoreload 2"
   ]
  },
  {
   "cell_type": "code",
   "execution_count": 8,
   "metadata": {
    "scrolled": true
   },
   "outputs": [
    {
     "name": "stdout",
     "output_type": "stream",
     "text": [
      "Episode  100 Score 0.00 Mean Last 10 0.0000 Mean Last 100 0.0030 Elapsed    121\n",
      "Episode  200 Score 0.00 Mean Last 10 0.0000 Mean Last 100 0.0000 Elapsed    257\n",
      "Episode  300 Score 0.00 Mean Last 10 0.0290 Mean Last 100 0.0029 Elapsed    410\n",
      "Episode  400 Score 0.00 Mean Last 10 0.0000 Mean Last 100 0.0068 Elapsed    571\n",
      "Episode  500 Score 0.00 Mean Last 10 0.0000 Mean Last 100 0.0039 Elapsed    730\n",
      "Episode  600 Score 0.00 Mean Last 10 0.0100 Mean Last 100 0.0030 Elapsed    876\n",
      "Episode  700 Score 0.10 Mean Last 10 0.0100 Mean Last 100 0.0059 Elapsed   1050\n",
      "Episode  800 Score 0.10 Mean Last 10 0.0100 Mean Last 100 0.0206 Elapsed   1246\n",
      "Episode  900 Score 0.09 Mean Last 10 0.0500 Mean Last 100 0.0298 Elapsed   1484\n",
      "Episode 1000 Score 0.00 Mean Last 10 0.0600 Mean Last 100 0.0391 Elapsed   1738\n",
      "Episode 1100 Score 0.10 Mean Last 10 0.0670 Mean Last 100 0.0416 Elapsed   1993\n",
      "Episode 1200 Score 0.10 Mean Last 10 0.1060 Mean Last 100 0.0591 Elapsed   2267\n",
      "Episode 1300 Score 0.09 Mean Last 10 0.0570 Mean Last 100 0.0578 Elapsed   2551\n",
      "Episode 1400 Score 0.00 Mean Last 10 0.0680 Mean Last 100 0.0740 Elapsed   2889\n",
      "Episode 1500 Score 0.10 Mean Last 10 0.0690 Mean Last 100 0.1006 Elapsed   3341\n",
      "Episode 1600 Score 0.10 Mean Last 10 0.1380 Mean Last 100 0.1058 Elapsed   3814\n",
      "Episode 1700 Score 0.10 Mean Last 10 0.1000 Mean Last 100 0.1115 Elapsed   4291\n",
      "Episode 1800 Score 0.10 Mean Last 10 0.1100 Mean Last 100 0.1147 Elapsed   4738\n",
      "Episode 1900 Score 0.30 Mean Last 10 0.0890 Mean Last 100 0.1267 Elapsed   5256\n",
      "Episode 2000 Score 0.00 Mean Last 10 0.2300 Mean Last 100 0.2136 Elapsed   6163\n",
      "Episode 2100 Score 0.30 Mean Last 10 0.2600 Mean Last 100 0.3027 Elapsed   7519\n",
      "Episode 2200 Score 0.10 Mean Last 10 0.2800 Mean Last 100 0.3078 Elapsed   8857\n",
      "Episode 2300 Score 0.30 Mean Last 10 0.3090 Mean Last 100 0.3206 Elapsed  10266\n",
      "Episode 2376 Score 1.30 Mean Last 10 0.5600 Mean Last 100 0.4918 Elapsed  11962Solved in 2377 episodes with mean score: 0.5018\n",
      "Episode 2379 Score 1.70 Mean Last 10 0.6500 Mean Last 100 0.4978 Elapsed  12050Solved in 2380 episodes with mean score: 0.5138\n",
      "Episode 2383 Score 1.80 Mean Last 10 0.5490 Mean Last 100 0.4957 Elapsed  12160Solved in 2384 episodes with mean score: 0.5107\n",
      "Episode 2384 Score 0.20 Mean Last 10 0.7290 Mean Last 100 0.5107 Elapsed  12167Solved in 2385 episodes with mean score: 0.5107\n",
      "Episode 2385 Score 0.80 Mean Last 10 0.7390 Mean Last 100 0.5107 Elapsed  12198Solved in 2386 episodes with mean score: 0.5177\n",
      "Episode 2386 Score 0.30 Mean Last 10 0.7590 Mean Last 100 0.5177 Elapsed  12210Solved in 2387 episodes with mean score: 0.5197\n",
      "Episode 2387 Score 1.10 Mean Last 10 0.6590 Mean Last 100 0.5197 Elapsed  12256Solved in 2388 episodes with mean score: 0.5297\n",
      "Episode 2388 Score 1.50 Mean Last 10 0.7390 Mean Last 100 0.5297 Elapsed  12322Solved in 2389 episodes with mean score: 0.5327\n",
      "Episode 2389 Score 0.60 Mean Last 10 0.8590 Mean Last 100 0.5327 Elapsed  12346Solved in 2390 episodes with mean score: 0.5357\n",
      "Episode 2390 Score 0.30 Mean Last 10 0.7490 Mean Last 100 0.5357 Elapsed  12358Solved in 2391 episodes with mean score: 0.5377\n",
      "Episode 2391 Score 0.40 Mean Last 10 0.7790 Mean Last 100 0.5377 Elapsed  12372Solved in 2392 episodes with mean score: 0.5417\n",
      "Episode 2392 Score 0.39 Mean Last 10 0.8090 Mean Last 100 0.5417 Elapsed  12386Solved in 2393 episodes with mean score: 0.5396\n",
      "Episode 2393 Score 0.80 Mean Last 10 0.7390 Mean Last 100 0.5396 Elapsed  12420Solved in 2394 episodes with mean score: 0.5376\n",
      "Episode 2394 Score 2.10 Mean Last 10 0.6390 Mean Last 100 0.5376 Elapsed  12499Solved in 2395 episodes with mean score: 0.5547\n",
      "Episode 2395 Score 0.20 Mean Last 10 0.8290 Mean Last 100 0.5547 Elapsed  12506Solved in 2396 episodes with mean score: 0.5567\n",
      "Episode 2396 Score 1.80 Mean Last 10 0.7690 Mean Last 100 0.5567 Elapsed  12571Solved in 2397 episodes with mean score: 0.5667\n",
      "Episode 2397 Score 1.40 Mean Last 10 0.9190 Mean Last 100 0.5667 Elapsed  12626Solved in 2398 episodes with mean score: 0.5797\n",
      "Episode 2398 Score 0.30 Mean Last 10 0.9490 Mean Last 100 0.5797 Elapsed  12636Solved in 2399 episodes with mean score: 0.5827\n",
      "Episode 2399 Score 0.30 Mean Last 10 0.8290 Mean Last 100 0.5827 Elapsed  12648Solved in 2400 episodes with mean score: 0.5847\n",
      "Episode 2400 Score 1.60 Mean Last 10 0.7990 Mean Last 100 0.5847 Elapsed  12707\n",
      "Solved in 2401 episodes with mean score: 0.5977\n",
      "Episode 2401 Score 0.80 Mean Last 10 0.9290 Mean Last 100 0.5977 Elapsed  12735Solved in 2402 episodes with mean score: 0.5967\n",
      "Episode 2402 Score 0.00 Mean Last 10 0.9690 Mean Last 100 0.5967 Elapsed  12737Solved in 2403 episodes with mean score: 0.5907\n",
      "Episode 2403 Score 0.30 Mean Last 10 0.9300 Mean Last 100 0.5907 Elapsed  12747Solved in 2404 episodes with mean score: 0.5917\n",
      "Episode 2404 Score 0.10 Mean Last 10 0.8800 Mean Last 100 0.5917 Elapsed  12752Solved in 2405 episodes with mean score: 0.5817\n",
      "Episode 2405 Score 0.40 Mean Last 10 0.6800 Mean Last 100 0.5817 Elapsed  12767Solved in 2406 episodes with mean score: 0.5677\n",
      "Episode 2406 Score 0.50 Mean Last 10 0.7000 Mean Last 100 0.5677 Elapsed  12788Solved in 2407 episodes with mean score: 0.5727\n",
      "Episode 2407 Score 0.80 Mean Last 10 0.5700 Mean Last 100 0.5727 Elapsed  12819Solved in 2408 episodes with mean score: 0.5757\n",
      "Episode 2408 Score 1.70 Mean Last 10 0.5100 Mean Last 100 0.5757 Elapsed  12890Solved in 2409 episodes with mean score: 0.5767\n",
      "Episode 2409 Score 0.80 Mean Last 10 0.6500 Mean Last 100 0.5767 Elapsed  12923Solved in 2410 episodes with mean score: 0.5807\n",
      "Episode 2410 Score 0.80 Mean Last 10 0.7000 Mean Last 100 0.5807 Elapsed  12955Solved in 2411 episodes with mean score: 0.5797\n",
      "Episode 2411 Score 1.00 Mean Last 10 0.6200 Mean Last 100 0.5797 Elapsed  12995Solved in 2412 episodes with mean score: 0.5887\n",
      "Episode 2412 Score 0.50 Mean Last 10 0.6400 Mean Last 100 0.5887 Elapsed  13018Solved in 2413 episodes with mean score: 0.5937\n",
      "Episode 2413 Score 0.50 Mean Last 10 0.6900 Mean Last 100 0.5937 Elapsed  13038Solved in 2414 episodes with mean score: 0.5887\n",
      "Episode 2414 Score 0.20 Mean Last 10 0.7100 Mean Last 100 0.5887 Elapsed  13047Solved in 2415 episodes with mean score: 0.5877\n",
      "Episode 2415 Score 0.00 Mean Last 10 0.7200 Mean Last 100 0.5877 Elapsed  13048Solved in 2416 episodes with mean score: 0.5867\n",
      "Episode 2416 Score 0.20 Mean Last 10 0.6800 Mean Last 100 0.5867 Elapsed  13061Solved in 2417 episodes with mean score: 0.5777\n",
      "Episode 2417 Score 0.50 Mean Last 10 0.6500 Mean Last 100 0.5777 Elapsed  13083Solved in 2418 episodes with mean score: 0.5817\n",
      "Episode 2418 Score 0.20 Mean Last 10 0.6200 Mean Last 100 0.5817 Elapsed  13092Solved in 2419 episodes with mean score: 0.5827\n",
      "Episode 2419 Score 0.10 Mean Last 10 0.4700 Mean Last 100 0.5827 Elapsed  13097Solved in 2420 episodes with mean score: 0.5777\n",
      "Episode 2420 Score 2.30 Mean Last 10 0.4000 Mean Last 100 0.5777 Elapsed  13184Solved in 2421 episodes with mean score: 0.5997\n",
      "Episode 2421 Score 0.70 Mean Last 10 0.5500 Mean Last 100 0.5997 Elapsed  13211Solved in 2422 episodes with mean score: 0.6057\n",
      "Episode 2422 Score 1.40 Mean Last 10 0.5200 Mean Last 100 0.6057 Elapsed  13270Solved in 2423 episodes with mean score: 0.6157\n",
      "Episode 2423 Score 0.30 Mean Last 10 0.6100 Mean Last 100 0.6157 Elapsed  13283Solved in 2424 episodes with mean score: 0.6187\n",
      "Episode 2424 Score 1.49 Mean Last 10 0.5900 Mean Last 100 0.6187 Elapsed  13345Solved in 2425 episodes with mean score: 0.6276\n",
      "Episode 2425 Score 0.10 Mean Last 10 0.7190 Mean Last 100 0.6276 Elapsed  13348Solved in 2426 episodes with mean score: 0.6286\n",
      "Episode 2426 Score 0.10 Mean Last 10 0.7290 Mean Last 100 0.6286 Elapsed  13352Solved in 2427 episodes with mean score: 0.6247\n",
      "Episode 2427 Score 0.50 Mean Last 10 0.7190 Mean Last 100 0.6247 Elapsed  13374Solved in 2428 episodes with mean score: 0.6267\n",
      "Episode 2428 Score 0.10 Mean Last 10 0.7190 Mean Last 100 0.6267 Elapsed  13377Solved in 2429 episodes with mean score: 0.6267\n",
      "Episode 2429 Score 1.00 Mean Last 10 0.7090 Mean Last 100 0.6267 Elapsed  13419Solved in 2430 episodes with mean score: 0.6367\n",
      "Episode 2430 Score 1.50 Mean Last 10 0.7990 Mean Last 100 0.6367 Elapsed  13473Solved in 2431 episodes with mean score: 0.6517\n"
     ]
    },
    {
     "name": "stdout",
     "output_type": "stream",
     "text": [
      "Episode 2431 Score 2.60 Mean Last 10 0.7190 Mean Last 100 0.6517 Elapsed  13579Solved in 2432 episodes with mean score: 0.6737\n",
      "Episode 2432 Score 0.40 Mean Last 10 0.9090 Mean Last 100 0.6737 Elapsed  13594Solved in 2433 episodes with mean score: 0.6727\n",
      "Episode 2433 Score 0.70 Mean Last 10 0.8090 Mean Last 100 0.6727 Elapsed  13619Solved in 2434 episodes with mean score: 0.6687\n",
      "Episode 2434 Score 0.70 Mean Last 10 0.8490 Mean Last 100 0.6687 Elapsed  13644Solved in 2435 episodes with mean score: 0.6757\n",
      "Episode 2435 Score 0.40 Mean Last 10 0.7700 Mean Last 100 0.6757 Elapsed  13659Solved in 2436 episodes with mean score: 0.6757\n",
      "Episode 2436 Score 0.10 Mean Last 10 0.8000 Mean Last 100 0.6757 Elapsed  13665Solved in 2437 episodes with mean score: 0.6757\n",
      "Episode 2437 Score 0.70 Mean Last 10 0.8000 Mean Last 100 0.6757 Elapsed  13695Solved in 2438 episodes with mean score: 0.6807\n",
      "Episode 2438 Score 0.30 Mean Last 10 0.8200 Mean Last 100 0.6807 Elapsed  13708Solved in 2439 episodes with mean score: 0.6807\n",
      "Episode 2439 Score 0.30 Mean Last 10 0.8400 Mean Last 100 0.6807 Elapsed  13719Solved in 2440 episodes with mean score: 0.6777\n",
      "Episode 2440 Score 1.90 Mean Last 10 0.7700 Mean Last 100 0.6777 Elapsed  13796Solved in 2441 episodes with mean score: 0.6897\n",
      "Episode 2441 Score 0.30 Mean Last 10 0.8100 Mean Last 100 0.6897 Elapsed  13807Solved in 2442 episodes with mean score: 0.6897\n",
      "Episode 2442 Score 2.20 Mean Last 10 0.5800 Mean Last 100 0.6897 Elapsed  13900Solved in 2443 episodes with mean score: 0.7107\n",
      "Episode 2443 Score 2.20 Mean Last 10 0.7600 Mean Last 100 0.7107 Elapsed  13991Solved in 2444 episodes with mean score: 0.7307\n",
      "Episode 2444 Score 0.09 Mean Last 10 0.9100 Mean Last 100 0.7307 Elapsed  13995Solved in 2445 episodes with mean score: 0.7306\n",
      "Episode 2445 Score 0.70 Mean Last 10 0.8490 Mean Last 100 0.7306 Elapsed  14025Solved in 2446 episodes with mean score: 0.7336\n",
      "Episode 2446 Score 1.70 Mean Last 10 0.8790 Mean Last 100 0.7336 Elapsed  14099Solved in 2447 episodes with mean score: 0.7406\n",
      "Episode 2447 Score 0.50 Mean Last 10 1.0390 Mean Last 100 0.7406 Elapsed  14120Solved in 2448 episodes with mean score: 0.7386\n",
      "Episode 2448 Score 0.50 Mean Last 10 1.0190 Mean Last 100 0.7386 Elapsed  14142Solved in 2449 episodes with mean score: 0.7286\n",
      "Episode 2449 Score 1.10 Mean Last 10 1.0390 Mean Last 100 0.7286 Elapsed  14190Solved in 2450 episodes with mean score: 0.7236\n",
      "Episode 2450 Score 1.70 Mean Last 10 1.1190 Mean Last 100 0.7236 Elapsed  14262Solved in 2451 episodes with mean score: 0.7396\n",
      "Episode 2451 Score 0.80 Mean Last 10 1.0990 Mean Last 100 0.7396 Elapsed  14293Solved in 2452 episodes with mean score: 0.7466\n",
      "Episode 2452 Score 0.00 Mean Last 10 1.1490 Mean Last 100 0.7466 Elapsed  14295Solved in 2453 episodes with mean score: 0.7386\n",
      "Episode 2453 Score 1.30 Mean Last 10 0.9290 Mean Last 100 0.7386 Elapsed  14343Solved in 2454 episodes with mean score: 0.7496\n",
      "Episode 2454 Score 0.50 Mean Last 10 0.8390 Mean Last 100 0.7496 Elapsed  14362Solved in 2455 episodes with mean score: 0.7396\n",
      "Episode 2455 Score 1.40 Mean Last 10 0.8800 Mean Last 100 0.7396 Elapsed  14427Solved in 2456 episodes with mean score: 0.7506\n",
      "Episode 2456 Score 0.90 Mean Last 10 0.9500 Mean Last 100 0.7506 Elapsed  14467Solved in 2457 episodes with mean score: 0.7516\n",
      "Episode 2457 Score 0.00 Mean Last 10 0.8700 Mean Last 100 0.7516 Elapsed  14469Solved in 2458 episodes with mean score: 0.7426\n",
      "Episode 2458 Score 0.10 Mean Last 10 0.8200 Mean Last 100 0.7426 Elapsed  14474Solved in 2459 episodes with mean score: 0.7396\n",
      "Episode 2459 Score 0.70 Mean Last 10 0.7800 Mean Last 100 0.7396 Elapsed  14502Solved in 2460 episodes with mean score: 0.7216\n",
      "Episode 2460 Score 0.59 Mean Last 10 0.7400 Mean Last 100 0.7216 Elapsed  14526Solved in 2461 episodes with mean score: 0.7235\n",
      "Episode 2461 Score 0.10 Mean Last 10 0.6290 Mean Last 100 0.7235 Elapsed  14531Solved in 2462 episodes with mean score: 0.7195\n",
      "Episode 2462 Score 0.90 Mean Last 10 0.5590 Mean Last 100 0.7195 Elapsed  14566Solved in 2463 episodes with mean score: 0.7275\n",
      "Episode 2463 Score 0.40 Mean Last 10 0.6490 Mean Last 100 0.7275 Elapsed  14580Solved in 2464 episodes with mean score: 0.7235\n",
      "Episode 2464 Score 0.50 Mean Last 10 0.5590 Mean Last 100 0.7235 Elapsed  14598Solved in 2465 episodes with mean score: 0.7255\n",
      "Episode 2465 Score 0.50 Mean Last 10 0.5590 Mean Last 100 0.7255 Elapsed  14617Solved in 2466 episodes with mean score: 0.7295\n",
      "Episode 2466 Score 2.10 Mean Last 10 0.4690 Mean Last 100 0.7295 Elapsed  14704Solved in 2467 episodes with mean score: 0.7505\n",
      "Episode 2467 Score 0.90 Mean Last 10 0.5890 Mean Last 100 0.7505 Elapsed  14746Solved in 2468 episodes with mean score: 0.7505\n",
      "Episode 2468 Score 0.29 Mean Last 10 0.6790 Mean Last 100 0.7505 Elapsed  14758Solved in 2469 episodes with mean score: 0.7524\n",
      "Episode 2469 Score 0.70 Mean Last 10 0.6980 Mean Last 100 0.7524 Elapsed  14788Solved in 2470 episodes with mean score: 0.7574\n",
      "Episode 2470 Score 0.10 Mean Last 10 0.6980 Mean Last 100 0.7574 Elapsed  14791"
     ]
    },
    {
     "ename": "KeyboardInterrupt",
     "evalue": "",
     "output_type": "error",
     "traceback": [
      "\u001b[0;31m---------------------------------------------------------------------------\u001b[0m",
      "\u001b[0;31mKeyboardInterrupt\u001b[0m                         Traceback (most recent call last)",
      "\u001b[0;32m<ipython-input-8-273156fcf35a>\u001b[0m in \u001b[0;36m<module>\u001b[0;34m\u001b[0m\n\u001b[1;32m     28\u001b[0m \u001b[0;34m\u001b[0m\u001b[0m\n\u001b[1;32m     29\u001b[0m         \u001b[0;31m# Send in these two states, actions, next_states, and dones into the agent\u001b[0m\u001b[0;34m\u001b[0m\u001b[0;34m\u001b[0m\u001b[0;34m\u001b[0m\u001b[0m\n\u001b[0;32m---> 30\u001b[0;31m         \u001b[0magent\u001b[0m\u001b[0;34m.\u001b[0m\u001b[0mstep\u001b[0m\u001b[0;34m(\u001b[0m\u001b[0mstates\u001b[0m\u001b[0;34m,\u001b[0m\u001b[0mactions\u001b[0m\u001b[0;34m,\u001b[0m\u001b[0mrewards\u001b[0m\u001b[0;34m,\u001b[0m\u001b[0mnext_states\u001b[0m\u001b[0;34m,\u001b[0m \u001b[0mdones\u001b[0m\u001b[0;34m)\u001b[0m\u001b[0;34m\u001b[0m\u001b[0;34m\u001b[0m\u001b[0m\n\u001b[0m\u001b[1;32m     31\u001b[0m         \u001b[0mscores\u001b[0m \u001b[0;34m+=\u001b[0m \u001b[0mnp\u001b[0m\u001b[0;34m.\u001b[0m\u001b[0marray\u001b[0m\u001b[0;34m(\u001b[0m\u001b[0menv_info\u001b[0m\u001b[0;34m.\u001b[0m\u001b[0mrewards\u001b[0m\u001b[0;34m)\u001b[0m\u001b[0;34m\u001b[0m\u001b[0;34m\u001b[0m\u001b[0m\n\u001b[1;32m     32\u001b[0m         \u001b[0mstates\u001b[0m \u001b[0;34m=\u001b[0m \u001b[0mnext_states\u001b[0m\u001b[0;34m\u001b[0m\u001b[0;34m\u001b[0m\u001b[0m\n",
      "\u001b[0;32m~/school/DRL/deep-reinforcement-learning/p3_collab-compete/maddpg_agent.py\u001b[0m in \u001b[0;36mstep\u001b[0;34m(self, states, actions, rewards, next_states, dones)\u001b[0m\n\u001b[1;32m     74\u001b[0m             \u001b[0;31m# for each agent, select a unique mini-batch of tuples and then proceed to learn\u001b[0m\u001b[0;34m\u001b[0m\u001b[0;34m\u001b[0m\u001b[0;34m\u001b[0m\u001b[0m\n\u001b[1;32m     75\u001b[0m             \u001b[0mexperiences\u001b[0m \u001b[0;34m=\u001b[0m \u001b[0;34m[\u001b[0m\u001b[0mself\u001b[0m\u001b[0;34m.\u001b[0m\u001b[0mmemory\u001b[0m\u001b[0;34m.\u001b[0m\u001b[0msample\u001b[0m\u001b[0;34m(\u001b[0m\u001b[0;34m)\u001b[0m \u001b[0;32mfor\u001b[0m \u001b[0ma\u001b[0m \u001b[0;32min\u001b[0m \u001b[0mself\u001b[0m\u001b[0;34m.\u001b[0m\u001b[0magents\u001b[0m\u001b[0;34m]\u001b[0m\u001b[0;34m\u001b[0m\u001b[0;34m\u001b[0m\u001b[0m\n\u001b[0;32m---> 76\u001b[0;31m             \u001b[0mself\u001b[0m\u001b[0;34m.\u001b[0m\u001b[0mlearn\u001b[0m\u001b[0;34m(\u001b[0m\u001b[0mexperiences\u001b[0m\u001b[0;34m,\u001b[0m \u001b[0mGAMMA\u001b[0m\u001b[0;34m)\u001b[0m\u001b[0;34m\u001b[0m\u001b[0;34m\u001b[0m\u001b[0m\n\u001b[0m\u001b[1;32m     77\u001b[0m \u001b[0;34m\u001b[0m\u001b[0m\n\u001b[1;32m     78\u001b[0m     \u001b[0;32mdef\u001b[0m \u001b[0msamples\u001b[0m\u001b[0;34m(\u001b[0m\u001b[0mself\u001b[0m\u001b[0;34m)\u001b[0m\u001b[0;34m:\u001b[0m\u001b[0;34m\u001b[0m\u001b[0;34m\u001b[0m\u001b[0m\n",
      "\u001b[0;32m~/school/DRL/deep-reinforcement-learning/p3_collab-compete/maddpg_agent.py\u001b[0m in \u001b[0;36mlearn\u001b[0;34m(self, experiences, gamma)\u001b[0m\n\u001b[1;32m    122\u001b[0m             \u001b[0mall_actions\u001b[0m\u001b[0;34m.\u001b[0m\u001b[0mappend\u001b[0m\u001b[0;34m(\u001b[0m\u001b[0magent\u001b[0m\u001b[0;34m.\u001b[0m\u001b[0mactor_local\u001b[0m\u001b[0;34m(\u001b[0m\u001b[0mstate\u001b[0m\u001b[0;34m)\u001b[0m\u001b[0;34m)\u001b[0m\u001b[0;34m\u001b[0m\u001b[0;34m\u001b[0m\u001b[0m\n\u001b[1;32m    123\u001b[0m         \u001b[0;32mfor\u001b[0m \u001b[0mi\u001b[0m\u001b[0;34m,\u001b[0m \u001b[0magent\u001b[0m \u001b[0;32min\u001b[0m \u001b[0menumerate\u001b[0m\u001b[0;34m(\u001b[0m\u001b[0mself\u001b[0m\u001b[0;34m.\u001b[0m\u001b[0magents\u001b[0m\u001b[0;34m)\u001b[0m\u001b[0;34m:\u001b[0m\u001b[0;34m\u001b[0m\u001b[0;34m\u001b[0m\u001b[0m\n\u001b[0;32m--> 124\u001b[0;31m             \u001b[0magent\u001b[0m\u001b[0;34m.\u001b[0m\u001b[0mlearn\u001b[0m\u001b[0;34m(\u001b[0m\u001b[0mi\u001b[0m\u001b[0;34m,\u001b[0m \u001b[0mexperiences\u001b[0m\u001b[0;34m[\u001b[0m\u001b[0mi\u001b[0m\u001b[0;34m]\u001b[0m\u001b[0;34m,\u001b[0m \u001b[0mgamma\u001b[0m\u001b[0;34m,\u001b[0m \u001b[0mall_next_actions\u001b[0m\u001b[0;34m,\u001b[0m \u001b[0mall_actions\u001b[0m\u001b[0;34m)\u001b[0m\u001b[0;34m\u001b[0m\u001b[0;34m\u001b[0m\u001b[0m\n\u001b[0m\u001b[1;32m    125\u001b[0m \u001b[0;34m\u001b[0m\u001b[0m\n\u001b[1;32m    126\u001b[0m \u001b[0;32mclass\u001b[0m \u001b[0mReplayBuffer\u001b[0m\u001b[0;34m:\u001b[0m\u001b[0;34m\u001b[0m\u001b[0;34m\u001b[0m\u001b[0m\n",
      "\u001b[0;32m~/school/DRL/deep-reinforcement-learning/p3_collab-compete/ddpg_agent.py\u001b[0m in \u001b[0;36mlearn\u001b[0;34m(self, agent_id, experiences, gamma, all_next_actions, all_actions)\u001b[0m\n\u001b[1;32m    116\u001b[0m         \u001b[0mcritic_loss\u001b[0m\u001b[0;34m.\u001b[0m\u001b[0mbackward\u001b[0m\u001b[0;34m(\u001b[0m\u001b[0;34m)\u001b[0m\u001b[0;34m\u001b[0m\u001b[0;34m\u001b[0m\u001b[0m\n\u001b[1;32m    117\u001b[0m         \u001b[0mtorch\u001b[0m\u001b[0;34m.\u001b[0m\u001b[0mnn\u001b[0m\u001b[0;34m.\u001b[0m\u001b[0mutils\u001b[0m\u001b[0;34m.\u001b[0m\u001b[0mclip_grad_norm_\u001b[0m\u001b[0;34m(\u001b[0m\u001b[0mself\u001b[0m\u001b[0;34m.\u001b[0m\u001b[0mcritic_local\u001b[0m\u001b[0;34m.\u001b[0m\u001b[0mparameters\u001b[0m\u001b[0;34m(\u001b[0m\u001b[0;34m)\u001b[0m\u001b[0;34m,\u001b[0m \u001b[0;36m1\u001b[0m\u001b[0;34m)\u001b[0m\u001b[0;34m\u001b[0m\u001b[0;34m\u001b[0m\u001b[0m\n\u001b[0;32m--> 118\u001b[0;31m         \u001b[0mself\u001b[0m\u001b[0;34m.\u001b[0m\u001b[0mcritic_optimizer\u001b[0m\u001b[0;34m.\u001b[0m\u001b[0mstep\u001b[0m\u001b[0;34m(\u001b[0m\u001b[0;34m)\u001b[0m\u001b[0;34m\u001b[0m\u001b[0;34m\u001b[0m\u001b[0m\n\u001b[0m\u001b[1;32m    119\u001b[0m \u001b[0;34m\u001b[0m\u001b[0m\n\u001b[1;32m    120\u001b[0m \u001b[0;34m\u001b[0m\u001b[0m\n",
      "\u001b[0;32m~/anaconda3/envs/drlnd/lib/python3.6/site-packages/torch/optim/adam.py\u001b[0m in \u001b[0;36mstep\u001b[0;34m(self, closure)\u001b[0m\n\u001b[1;32m    104\u001b[0m                 \u001b[0mstep_size\u001b[0m \u001b[0;34m=\u001b[0m \u001b[0mgroup\u001b[0m\u001b[0;34m[\u001b[0m\u001b[0;34m'lr'\u001b[0m\u001b[0;34m]\u001b[0m \u001b[0;34m*\u001b[0m \u001b[0mmath\u001b[0m\u001b[0;34m.\u001b[0m\u001b[0msqrt\u001b[0m\u001b[0;34m(\u001b[0m\u001b[0mbias_correction2\u001b[0m\u001b[0;34m)\u001b[0m \u001b[0;34m/\u001b[0m \u001b[0mbias_correction1\u001b[0m\u001b[0;34m\u001b[0m\u001b[0;34m\u001b[0m\u001b[0m\n\u001b[1;32m    105\u001b[0m \u001b[0;34m\u001b[0m\u001b[0m\n\u001b[0;32m--> 106\u001b[0;31m                 \u001b[0mp\u001b[0m\u001b[0;34m.\u001b[0m\u001b[0mdata\u001b[0m\u001b[0;34m.\u001b[0m\u001b[0maddcdiv_\u001b[0m\u001b[0;34m(\u001b[0m\u001b[0;34m-\u001b[0m\u001b[0mstep_size\u001b[0m\u001b[0;34m,\u001b[0m \u001b[0mexp_avg\u001b[0m\u001b[0;34m,\u001b[0m \u001b[0mdenom\u001b[0m\u001b[0;34m)\u001b[0m\u001b[0;34m\u001b[0m\u001b[0;34m\u001b[0m\u001b[0m\n\u001b[0m\u001b[1;32m    107\u001b[0m \u001b[0;34m\u001b[0m\u001b[0m\n\u001b[1;32m    108\u001b[0m         \u001b[0;32mreturn\u001b[0m \u001b[0mloss\u001b[0m\u001b[0;34m\u001b[0m\u001b[0;34m\u001b[0m\u001b[0m\n",
      "\u001b[0;31mKeyboardInterrupt\u001b[0m: "
     ]
    }
   ],
   "source": [
    "\n",
    "from maddpg_agent import MADDPGAgent\n",
    "import time\n",
    "agent = MADDPGAgent(num_agents, state_size, action_size, random_seed=47, batch_size=256, buffer_size=int(1e6), use_batch_norm=True)\n",
    "episode_scores = []\n",
    "best_score=0.\n",
    "start_time = time.time()\n",
    "for i in range(5000):\n",
    "    env_info = env.reset(train_mode=True)[brain_name]\n",
    "    states = env_info.vector_observations\n",
    "    scores = np.zeros(num_agents)\n",
    "    agent.reset_noise()\n",
    "    game_time = 0\n",
    "    while True:\n",
    "        # states[0] is the observation of agent 0 and states[1] is the observation of agent 1\n",
    "        # actions[0] is the action chosen by agent 0 and actions[1] is the action chosen by agent 1\n",
    "        # selection of action is always based only on the observation\n",
    "        actions = agent.act(states)\n",
    "\n",
    "        # Apply these actions to the environment and receive the next state, rewards, and doneness\n",
    "        env_info = env.step(actions)[brain_name]\n",
    "        next_states = env_info.vector_observations\n",
    "        rewards = env_info.rewards\n",
    "        \n",
    "        #print(\"actions: {} rewards: {}\".format(actions, rewards))\n",
    "        \n",
    "        dones = env_info.local_done\n",
    "        \n",
    "        # Send in these two states, actions, next_states, and dones into the agent\n",
    "        agent.step(states,actions,rewards,next_states, dones)\n",
    "        scores += np.array(env_info.rewards)\n",
    "        states = next_states\n",
    "        if np.any(dones):\n",
    "            break\n",
    "        game_time += 1\n",
    "    \n",
    "    mean_last_10 = 0.\n",
    "    mean_last_100 = 0.\n",
    "    episode_scores.append(np.max(scores))\n",
    "\n",
    "    if i >= 10:\n",
    "        mean_last_10 = np.mean(episode_scores[i-10:i])\n",
    "        if i>= 100:\n",
    "            mean_last_100 = np.mean(episode_scores[i-100:i])\n",
    "            if mean_last_100 >= 0.5:\n",
    "                print(\"Solved in {} episodes with mean score: {:.4f}\".format(i, mean_last_100))\n",
    "                break\n",
    "    elapsed_time = int(time.time() - start_time)\n",
    "    sfmt = \"\\rEpisode {:4d} Score {:.2f} Mean Last 10 {:.4f} Mean Last 100 {:.4f} Elapsed {:6d}\".format(i,\n",
    "                                                                                  np.max(scores),\n",
    "                                                                                  mean_last_10,\n",
    "                                                                                  mean_last_100,\n",
    "                                                                                  elapsed_time)\n",
    "    print(sfmt, end=\"\")\n",
    "    if i%100 == 0 and i>0:\n",
    "        print(sfmt)\n"
   ]
  },
  {
   "cell_type": "code",
   "execution_count": 10,
   "metadata": {},
   "outputs": [],
   "source": [
    "import pickle as pkl"
   ]
  },
  {
   "cell_type": "code",
   "execution_count": 29,
   "metadata": {},
   "outputs": [],
   "source": [
    "pkl.dump(episode_scores, open(\"data/episode_scores.pkl\", \"wb\"))"
   ]
  },
  {
   "cell_type": "code",
   "execution_count": 30,
   "metadata": {},
   "outputs": [],
   "source": [
    "import torch\n",
    "torch.save(agent.agents[0].actor_local.state_dict(),open(\"data/actor_local0.pt\",\"wb\"))\n",
    "torch.save(agent.agents[1].actor_local.state_dict(), open(\"data/actor_local1.pt\",\"wb\"))\n",
    "torch.save(agent.agents[0].critic_local.state_dict(),open(\"data/critic_local0.pt\",\"wb\"))\n",
    "torch.save(agent.agents[1].critic_local.state_dict(), open(\"data/critic_local1.pt\",\"wb\"))"
   ]
  },
  {
   "cell_type": "code",
   "execution_count": 31,
   "metadata": {},
   "outputs": [],
   "source": [
    "import seaborn as sns\n",
    "import matplotlib.pyplot as plt\n",
    "import pandas as pd"
   ]
  },
  {
   "cell_type": "code",
   "execution_count": 32,
   "metadata": {},
   "outputs": [
    {
     "data": {
      "image/png": "[encoded data removed]",
      "text/plain": [
       "<Figure size 508.875x360 with 1 Axes>"
      ]
     },
     "metadata": {
      "needs_background": "light"
     },
     "output_type": "display_data"
    }
   ],
   "source": [
    "d = {'raw scores':episode_scores, 'smoothed x100 scores':[]}\n",
    "d['smoothed x100 scores'] = [np.mean(episode_scores[max(i-100,0):i+1]) for i in range(len(episode_scores))]\n",
    "pdf = pd.DataFrame(d)\n",
    "ax=sns.relplot(data=pdf,kind='line')\n",
    "ax.set(xlabel=\"Episode\",ylabel=\"Score\", title=\"Raw and Smoothed Tennis Scores\")\n",
    "ax.savefig(\"output/scores.png\")"
   ]
  },
  {
   "cell_type": "code",
   "execution_count": null,
   "metadata": {},
   "outputs": [
    {
     "name": "stderr",
     "output_type": "stream",
     "text": [
      "INFO:unityagents:\n",
      "'Academy' started successfully!\n",
      "Unity Academy name: Academy\n",
      "        Number of Brains: 1\n",
      "        Number of External Brains : 1\n",
      "        Lesson number : 0\n",
      "        Reset Parameters :\n",
      "\t\t\n",
      "Unity brain name: TennisBrain\n",
      "        Number of Visual Observations (per agent): 0\n",
      "        Vector Observation space type: continuous\n",
      "        Vector Observation space size (per agent): 8\n",
      "        Number of stacked Vector Observation: 3\n",
      "        Vector Action space type: continuous\n",
      "        Vector Action space size (per agent): 2\n",
      "        Vector Action descriptions: , \n"
     ]
    },
    {
     "name": "stdout",
     "output_type": "stream",
     "text": [
      "Number of agents: 2\n",
      "Size of each action: 2\n",
      "There are 2 agents. Each observes a state with length: 24\n",
      "The state for the first agent looks like: [ 0.          0.          0.          0.          0.          0.\n",
      "  0.          0.          0.          0.          0.          0.\n",
      "  0.          0.          0.          0.         -6.65278625 -1.5\n",
      " -0.          0.          6.83172083  6.         -0.          0.        ]\n",
      "Game 1 Score 0.0\n",
      "Game 2 Score 0.0\n"
     ]
    }
   ],
   "source": [
    "try: env\n",
    "except: env = None\n",
    "from maddpg_agent import MADDPGAgent\n",
    "from unityagents import UnityEnvironment\n",
    "import numpy as np\n",
    "import torch\n",
    "if env:\n",
    "    env.close()\n",
    "env = UnityEnvironment(file_name='./Tennis_Linux/Tennis.x86_64')\n",
    "\n",
    "brain_name = env.brain_names[0]\n",
    "brain = env.brains[brain_name]\n",
    "# reset the environment\n",
    "env_info = env.reset(train_mode=True)[brain_name]\n",
    "\n",
    "# number of agents \n",
    "num_agents = len(env_info.agents)\n",
    "print('Number of agents:', num_agents)\n",
    "\n",
    "# size of each action\n",
    "action_size = brain.vector_action_space_size\n",
    "print('Size of each action:', action_size)\n",
    "\n",
    "# examine the state space \n",
    "states = env_info.vector_observations\n",
    "state_size = states.shape[1]\n",
    "print('There are {} agents. Each observes a state with length: {}'.format(states.shape[0], state_size))\n",
    "print('The state for the first agent looks like:', states[0])\n",
    "agent = MADDPGAgent(num_agents, state_size, action_size, random_seed=47, batch_size=256, buffer_size=int(1e6), use_batch_norm=True)\n",
    "agent.agents[0].actor_local.load_state_dict(torch.load(\"./data/actor_local0.pt\"))\n",
    "agent.agents[1].actor_local.load_state_dict(torch.load(\"./data/actor_local1.pt\"))\n",
    "\n",
    "\n",
    "for i in range(10):\n",
    "    env_info = env.reset(train_mode=False)[brain_name]\n",
    "    states = env_info.vector_observations\n",
    "    scores = np.zeros(num_agents)\n",
    "    agent.reset_noise()\n",
    "    game_time = 0\n",
    "    while True:\n",
    "        # states[0] is the observation of agent 0 and states[1] is the observation of agent 1\n",
    "        # actions[0] is the action chosen by agent 0 and actions[1] is the action chosen by agent 1\n",
    "        # selection of action is always based only on the observation\n",
    "        actions = agent.act(states)\n",
    "\n",
    "        # Apply these actions to the environment and receive the next state, rewards, and doneness\n",
    "        env_info = env.step(actions)[brain_name]\n",
    "        next_states = env_info.vector_observations\n",
    "        rewards = env_info.rewards        \n",
    "        dones = env_info.local_done\n",
    "        \n",
    "        # Send in these two states, actions, next_states, and dones into the agent\n",
    "        scores += np.array(env_info.rewards)\n",
    "        states = next_states\n",
    "        if np.any(dones):\n",
    "            break\n",
    "    print(\"Game {} Score {}\".format(i+1, np.max(scores)))"
   ]
  },
  {
   "cell_type": "code",
   "execution_count": null,
   "metadata": {},
   "outputs": [],
   "source": []
  }
 ],
 "metadata": {
  "kernelspec": {
   "display_name": "Python 3",
   "language": "python",
   "name": "python3"
  },
  "language_info": {
   "codemirror_mode": {
    "name": "ipython",
    "version": 3
   },
   "file_extension": ".py",
   "mimetype": "text/x-python",
   "name": "python",
   "nbconvert_exporter": "python",
   "pygments_lexer": "ipython3",
   "version": "3.6.8"
  }
 },
 "nbformat": 4,
 "nbformat_minor": 2
}
